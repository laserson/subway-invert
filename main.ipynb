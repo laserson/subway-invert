{
 "cells": [
  {
   "cell_type": "code",
   "execution_count": 1,
   "metadata": {},
   "outputs": [],
   "source": [
    "import polars as pl\n",
    "from scipy.interpolate import Rbf\n",
    "import numpy as np\n",
    "from PIL import Image, ImageDraw\n",
    "from tps import ThinPlateSpline\n"
   ]
  },
  {
   "cell_type": "code",
   "execution_count": 2,
   "metadata": {},
   "outputs": [
    {
     "data": {
      "text/html": [
       "<div><style>\n",
       ".dataframe > thead > tr,\n",
       ".dataframe > tbody > tr {\n",
       "  text-align: right;\n",
       "  white-space: pre-wrap;\n",
       "}\n",
       "</style>\n",
       "<small>shape: (496, 6)</small><table border=\"1\" class=\"dataframe\"><thead><tr><th>id</th><th>name</th><th>lat</th><th>long</th><th>x</th><th>y</th></tr><tr><td>str</td><td>str</td><td>f64</td><td>f64</td><td>f64</td><td>f64</td></tr></thead><tbody><tr><td>&quot;R31&quot;</td><td>&quot;Atlantic Av-Barclays Ctr&quot;</td><td>40.683666</td><td>-73.97881</td><td>3225.0</td><td>6172.0</td></tr><tr><td>&quot;R32&quot;</td><td>&quot;Union St&quot;</td><td>40.677316</td><td>-73.98311</td><td>3225.0</td><td>6386.0</td></tr><tr><td>&quot;R33&quot;</td><td>&quot;4 Av-9 St&quot;</td><td>40.670847</td><td>-73.988302</td><td>3221.0</td><td>6568.0</td></tr><tr><td>&quot;R34&quot;</td><td>&quot;Prospect Av&quot;</td><td>40.665414</td><td>-73.992872</td><td>3224.0</td><td>6659.0</td></tr><tr><td>&quot;R35&quot;</td><td>&quot;25 St&quot;</td><td>40.660397</td><td>-73.998091</td><td>3219.0</td><td>6755.0</td></tr><tr><td>&hellip;</td><td>&hellip;</td><td>&hellip;</td><td>&hellip;</td><td>&hellip;</td><td>&hellip;</td></tr><tr><td>&quot;S15&quot;</td><td>&quot;Prince&#x27;s Bay&quot;</td><td>40.525507</td><td>-74.200064</td><td>967.0</td><td>7744.0</td></tr><tr><td>&quot;S14&quot;</td><td>&quot;Pleasant Plains&quot;</td><td>40.52241</td><td>-74.217847</td><td>907.0</td><td>7814.0</td></tr><tr><td>&quot;S13&quot;</td><td>&quot;Richmond Valley&quot;</td><td>40.519631</td><td>-74.229141</td><td>844.0</td><td>7879.0</td></tr><tr><td>&quot;S11&quot;</td><td>&quot;Arthur Kill&quot;</td><td>40.516578</td><td>-74.242096</td><td>784.0</td><td>7939.0</td></tr><tr><td>&quot;S09&quot;</td><td>&quot;Tottenville&quot;</td><td>40.512764</td><td>-74.251961</td><td>719.0</td><td>8002.0</td></tr></tbody></table></div>"
      ],
      "text/plain": [
       "shape: (496, 6)\n",
       "┌─────┬──────────────────────────┬───────────┬────────────┬────────┬────────┐\n",
       "│ id  ┆ name                     ┆ lat       ┆ long       ┆ x      ┆ y      │\n",
       "│ --- ┆ ---                      ┆ ---       ┆ ---        ┆ ---    ┆ ---    │\n",
       "│ str ┆ str                      ┆ f64       ┆ f64        ┆ f64    ┆ f64    │\n",
       "╞═════╪══════════════════════════╪═══════════╪════════════╪════════╪════════╡\n",
       "│ R31 ┆ Atlantic Av-Barclays Ctr ┆ 40.683666 ┆ -73.97881  ┆ 3225.0 ┆ 6172.0 │\n",
       "│ R32 ┆ Union St                 ┆ 40.677316 ┆ -73.98311  ┆ 3225.0 ┆ 6386.0 │\n",
       "│ R33 ┆ 4 Av-9 St                ┆ 40.670847 ┆ -73.988302 ┆ 3221.0 ┆ 6568.0 │\n",
       "│ R34 ┆ Prospect Av              ┆ 40.665414 ┆ -73.992872 ┆ 3224.0 ┆ 6659.0 │\n",
       "│ R35 ┆ 25 St                    ┆ 40.660397 ┆ -73.998091 ┆ 3219.0 ┆ 6755.0 │\n",
       "│ …   ┆ …                        ┆ …         ┆ …          ┆ …      ┆ …      │\n",
       "│ S15 ┆ Prince's Bay             ┆ 40.525507 ┆ -74.200064 ┆ 967.0  ┆ 7744.0 │\n",
       "│ S14 ┆ Pleasant Plains          ┆ 40.52241  ┆ -74.217847 ┆ 907.0  ┆ 7814.0 │\n",
       "│ S13 ┆ Richmond Valley          ┆ 40.519631 ┆ -74.229141 ┆ 844.0  ┆ 7879.0 │\n",
       "│ S11 ┆ Arthur Kill              ┆ 40.516578 ┆ -74.242096 ┆ 784.0  ┆ 7939.0 │\n",
       "│ S09 ┆ Tottenville              ┆ 40.512764 ┆ -74.251961 ┆ 719.0  ┆ 8002.0 │\n",
       "└─────┴──────────────────────────┴───────────┴────────────┴────────┴────────┘"
      ]
     },
     "execution_count": 2,
     "metadata": {},
     "output_type": "execute_result"
    }
   ],
   "source": [
    "coords_df = pl.read_csv(\"MTA_Subway_Stations_filled.csv\").select(\n",
    "    pl.col(\"GTFS Stop ID\").alias(\"id\"),\n",
    "    pl.col(\"Stop Name\").alias(\"name\"),\n",
    "    pl.col(\"GTFS Latitude\").alias(\"lat\"),\n",
    "    pl.col(\"GTFS Longitude\").alias(\"long\"),\n",
    "    pl.col(\"Image coords\").str.split(\",\").list[0].cast(pl.Float64).alias(\"x\"),\n",
    "    pl.col(\"Image coords\").str.split(\",\").list[1].cast(pl.Float64).alias(\"y\"),\n",
    ")\n",
    "coords_df"
   ]
  },
  {
   "cell_type": "code",
   "execution_count": 3,
   "metadata": {},
   "outputs": [],
   "source": [
    "lat_min = coords_df[\"lat\"].min()\n",
    "lat_max = coords_df[\"lat\"].max()\n",
    "long_min = coords_df[\"long\"].min()\n",
    "long_max = coords_df[\"long\"].max()"
   ]
  },
  {
   "cell_type": "code",
   "execution_count": 4,
   "metadata": {},
   "outputs": [
    {
     "data": {
      "text/plain": [
       "<tps.thin_plate_spline.ThinPlateSpline at 0x115485be0>"
      ]
     },
     "execution_count": 4,
     "metadata": {},
     "output_type": "execute_result"
    }
   ],
   "source": [
    "tps = ThinPlateSpline(alpha=1e-5, enforce_tps_kernel=True)\n",
    "X_train = coords_df.select(\"long\", \"lat\").to_numpy()\n",
    "Y_train = coords_df.select(\"x\", \"y\").to_numpy()\n",
    "tps.fit(X_train, Y_train)"
   ]
  },
  {
   "cell_type": "code",
   "execution_count": 5,
   "metadata": {},
   "outputs": [],
   "source": [
    "img = Image.open(\"Subway diagram.png\")\n",
    "draw = ImageDraw.Draw(img)"
   ]
  },
  {
   "cell_type": "code",
   "execution_count": 6,
   "metadata": {},
   "outputs": [],
   "source": [
    "num_lines = 150\n",
    "for lon in np.linspace(long_min, long_max, num_lines):\n",
    "    points_to_draw = []\n",
    "    for lat in np.linspace(lat_min, lat_max, 1000):\n",
    "        xy = tps.transform(np.asarray([[lon, lat]]))\n",
    "        x, y = xy[0][0].item(), xy[0][1].item()\n",
    "        points_to_draw.append((x, y))\n",
    "    draw.line(points_to_draw, fill=\"blue\", width=5)\n",
    "    # break\n",
    "\n",
    "for lat in np.linspace(lat_min, lat_max, num_lines):\n",
    "    points_to_draw = []\n",
    "    for lon in np.linspace(long_min, long_max, 1000):\n",
    "        xy = tps.transform(np.asarray([[lon, lat]]))\n",
    "        x, y = xy[0][0].item(), xy[0][1].item()\n",
    "        points_to_draw.append((x, y))\n",
    "    draw.line(points_to_draw, fill=\"purple\", width=5)\n",
    "    # break\n"
   ]
  },
  {
   "cell_type": "code",
   "execution_count": 7,
   "metadata": {},
   "outputs": [],
   "source": [
    "img.save(\"distorted_grid_map.png\")"
   ]
  },
  {
   "cell_type": "code",
   "execution_count": null,
   "metadata": {},
   "outputs": [],
   "source": []
  }
 ],
 "metadata": {
  "kernelspec": {
   "display_name": ".venv",
   "language": "python",
   "name": "python3"
  },
  "language_info": {
   "codemirror_mode": {
    "name": "ipython",
    "version": 3
   },
   "file_extension": ".py",
   "mimetype": "text/x-python",
   "name": "python",
   "nbconvert_exporter": "python",
   "pygments_lexer": "ipython3",
   "version": "3.13.5"
  }
 },
 "nbformat": 4,
 "nbformat_minor": 2
}
